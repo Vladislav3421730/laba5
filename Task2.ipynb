{
 "cells": [
  {
   "cell_type": "code",
   "execution_count": 38,
   "id": "bdc06129-3cc1-4471-8e12-c3d9b54e6138",
   "metadata": {},
   "outputs": [
    {
     "name": "stdout",
     "output_type": "stream",
     "text": [
      "[[ 1. 29. 78.]\n",
      " [ 1. 29. 60.]\n",
      " [ 1. 18. 60.]\n",
      " [ 1. 19. 61.]\n",
      " [ 1. 21. 72.]\n",
      " [ 1. 26. 67.]\n",
      " [ 1. 18. 72.]\n",
      " [ 1. 18. 70.]\n",
      " [ 1. 21. 72.]\n",
      " [ 1. 19. 66.]\n",
      " [ 1. 28. 73.]\n",
      " [ 1. 18. 62.]]\n",
      "\n",
      "[[13.67325708]\n",
      " [15.15926739]\n",
      " [14.89735707]\n",
      " [14.2442089 ]\n",
      " [14.921161  ]\n",
      " [13.97846599]\n",
      " [14.53593961]\n",
      " [14.90467361]\n",
      " [14.20894597]\n",
      " [13.90339457]\n",
      " [13.95955834]\n",
      " [13.95929756]]\n",
      "\n",
      "[[ 1.64349443e+01]\n",
      " [-1.21249618e-02]\n",
      " [-2.66578291e-02]]\n",
      "\n",
      "[16.39616155 15.60347952 14.10797689]\n"
     ]
    }
   ],
   "source": [
    "import numpy as np\n",
    "a=np.ones((12,1))\n",
    "b=np.random.randint(18,30,(12,1))\n",
    "c=np.random.randint(60,82,(12,1))\n",
    "X=np.concatenate((a,b,c),axis=1)\n",
    "print(X)\n",
    "print()\n",
    "Y = np.random.uniform(13.5, 18.6, (12, 1))\n",
    "print(Y)\n",
    "print()\n",
    "A=np.linalg.matrix_power((X.transpose().dot(X)),-1).dot(X.transpose().dot(Y))\n",
    "Y1=A[0]+A[1]*X[1]+A[2]*X[2]\n",
    "print(A)\n",
    "print()\n",
    "print(Y1)"
   ]
  }
 ],
 "metadata": {
  "kernelspec": {
   "display_name": "Python 3 (ipykernel)",
   "language": "python",
   "name": "python3"
  },
  "language_info": {
   "codemirror_mode": {
    "name": "ipython",
    "version": 3
   },
   "file_extension": ".py",
   "mimetype": "text/x-python",
   "name": "python",
   "nbconvert_exporter": "python",
   "pygments_lexer": "ipython3",
   "version": "3.9.13"
  }
 },
 "nbformat": 4,
 "nbformat_minor": 5
}
