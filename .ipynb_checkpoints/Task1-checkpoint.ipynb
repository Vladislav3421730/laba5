{
 "cells": [
  {
   "cell_type": "code",
   "execution_count": 2,
   "id": "04e43206-ff65-4474-bf1f-200ee200b903",
   "metadata": {},
   "outputs": [
    {
     "name": "stdout",
     "output_type": "stream",
     "text": [
      "-3.106533964444678\n"
     ]
    }
   ],
   "source": [
    "import numpy as np\n",
    "a=1.21\n",
    "b=0.371\n",
    "y=np.tan((a+b) ** 2)-((a+1.5)** (1/3)) + a * (b ** 5) -b/np.log(a**2)\n",
    "print(y)"
   ]
  }
 ],
 "metadata": {
  "kernelspec": {
   "display_name": "Python 3 (ipykernel)",
   "language": "python",
   "name": "python3"
  },
  "language_info": {
   "codemirror_mode": {
    "name": "ipython",
    "version": 3
   },
   "file_extension": ".py",
   "mimetype": "text/x-python",
   "name": "python",
   "nbconvert_exporter": "python",
   "pygments_lexer": "ipython3",
   "version": "3.9.13"
  }
 },
 "nbformat": 4,
 "nbformat_minor": 5
}
